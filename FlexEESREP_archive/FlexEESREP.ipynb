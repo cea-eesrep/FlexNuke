{
 "cells": [
  {
   "cell_type": "markdown",
   "metadata": {},
   "source": [
    "## Hands-on EESREP 2 : Flexible nuclear and CCGT plants supplying a balanced electric grid"
   ]
  },
  {
   "cell_type": "markdown",
   "metadata": {},
   "source": [
    "This serie of file \"Hands-on EESREP\" is dedicated to the study of flexibility features in the EESREP simulation model. The primary objective is to incorporate advanced components whose flexibility is in some way restricted by physical phenomena or safety regulations.\n",
    "\n",
    "The tutorial use_2_three_components_model.ipynb serves as the foundation for this code, which will introduce flexibility restrictions to the nuclear cluster in Hands-on EESREP 2, while the CCGT model will remain optimistic. Hence, the model uses seven main components:\n",
    "\n",
    "-   load: fatal sink that consumes a predetermined amount of energy ;\n",
    "\n",
    "-   cluster_Nuke: group of N1 nuclear power plants that produce energy between its minimal and maximal power when turned-on ;\n",
    "-   cluster_CCGT: group of N2 Combined Cycle Gas Turbine (CCGT) that produce energy between its minimal and maximal power when turned-on ;\n",
    "\n",
    "-   fuel_Nuke: provides the energy requested by the cluster_Nuke ;\n",
    "-   fuel_CCGT: provides the energy requested by the cluster_CCGT ;\n",
    "\n",
    "-   demand-side management: virtual production plant - that provides the system with unsupplied_energy - ensures the equilibrium between energy bid and ask. The energy is charged at a significantly higher rate compared to the rate of physical assets ;\n",
    "-   spilled_energy: physical consumption plant that will consume energy on demand to ensure an equilibrium between energy bid and ask when flexibility restrictions induce a spread. The charge for consumption is intended to prevent the solver from overproducing.\n",
    "\n",
    "A \"bus\" has been added to enable Kirchhoff's junction rule between the inputs and the outputs.\n",
    "\n",
    "The model's structure can be exemplified as follows:\n",
    "\n",
    "                                             | -->  load\n",
    "              fuel_Nuke --> cluster_Nuke --> |\n",
    "              fuel_CCGT --> cluster_CCGT --> |\n",
    "                  demand-side management --> |\n",
    "                                             | --> spilled_energy"
   ]
  },
  {
   "cell_type": "markdown",
   "metadata": {},
   "source": [
    "### Imports"
   ]
  },
  {
   "cell_type": "code",
   "execution_count": 16,
   "metadata": {},
   "outputs": [],
   "source": [
    "import math\n",
    "\n",
    "import matplotlib.pyplot as plt\n",
    "import pandas as pd\n",
    "import numpy as np\n",
    "\n",
    "from eesrep import Eesrep\n",
    "from eesrep.components.generic_component import GenericComponent\n",
    "from eesrep.components.converter import Cluster\n",
    "from eesrep.components.sink_source import FatalSink, Source, Sink\n",
    "from eesrep.eesrep_enum import TimeSerieType\n",
    "from eesrep.solver_interface.generic_interface import GenericInterface"
   ]
  },
  {
   "cell_type": "markdown",
   "metadata": {},
   "source": [
    "### New components"
   ]
  },
  {
   "cell_type": "code",
   "execution_count": 18,
   "metadata": {},
   "outputs": [],
   "source": [
    "class FlexiblePP_static(GenericComponent):\n",
    "    \"\"\"EESREP flexible power plant static model :\n",
    "        The output evolution satisfies static constraints set through ramp_up and ramp_down\"\"\"\n",
    "\n",
    "    def __init__(self, \n",
    "                    name:str,\n",
    "                    efficiency:float,\n",
    "                    p_max:float,\n",
    "                    p_min_rel:float,\n",
    "                    duration_on:float,\n",
    "                    duration_off:float,\n",
    "                    opex:float,\n",
    "                    turn_on_price:float,\n",
    "                    ramp_up:float,\n",
    "                    ramp_down:float,\n",
    "                    bool_ramps:float,\n",
    "                    bool_creditFPPI:float,\n",
    "                    some_ts:pd.DataFrame = pd.DataFrame()):\n",
    "        \n",
    "        self.name = name\n",
    "        self.efficiency = efficiency\n",
    "        self.p_max = p_max\n",
    "        self.p_min_off = 0\n",
    "        self.p_min_on = p_min_rel * p_max\n",
    "        self.duration_on = duration_on\n",
    "        self.duration_off = duration_off\n",
    "        self.opex = opex\n",
    "        self.turn_on_price = turn_on_price\n",
    "        self.ramp_up = ramp_up\n",
    "        self.ramp_down = ramp_down\n",
    "        self.bool_ramps = bool_ramps\n",
    "        self.bool_creditFPPI = bool_creditFPPI\n",
    "\n",
    "        #   Necessary object, instanciate empty if not used\n",
    "        self.time_series = {\n",
    "            # \"some_time_serie\":{\n",
    "            #     \"type\":TimeSerieType.INTENSIVE,\n",
    "            #     \"value\":some_ts\n",
    "            # } \n",
    "        }\n",
    "\n",
    "        self.boolstate = \"boolstate\"\n",
    "        self.creditFPPI = \"creditFPPI\"\n",
    "        self.electricity = \"electricity\"\n",
    "        self.fuel = \"fuel\"\n",
    "\n",
    "    def io_from_parameters(self) -> dict:\n",
    "        \"\"\"Lists the component Input/Output.\n",
    "        \"\"\"\n",
    "        return {\n",
    "                    \"boolstate\":{\n",
    "                                    \"type\": TimeSerieType.INTENSIVE,\n",
    "                                    \"continuity\":True\n",
    "                                },\n",
    "                    \"creditFPPI\":{\n",
    "                                    \"type\": TimeSerieType.INTENSIVE,\n",
    "                                    \"continuity\":True\n",
    "                                },\n",
    "                    \"electricity\":{\n",
    "                                    \"type\": TimeSerieType.INTENSIVE,\n",
    "                                    \"continuity\":True\n",
    "                                },\n",
    "                    \"fuel\":{\n",
    "                                    \"type\": TimeSerieType.INTENSIVE,\n",
    "                                    \"continuity\":False\n",
    "                                }\n",
    "                }\n",
    "    \n",
    "    def build_model(self,\n",
    "        component_name:str,\n",
    "        time_steps:list,\n",
    "        time_series:pd.DataFrame,\n",
    "        history:pd.DataFrame,\n",
    "        model_interface:GenericInterface):\n",
    "        \"\"\"Builds the model at the current horizon.\n",
    "\n",
    "        Parameters\n",
    "        ----------\n",
    "        component_name : str\n",
    "            Component name to index the MILP variables\n",
    "        time_steps : list\n",
    "            List of the time steps length \n",
    "        time_series : pd.DataFrame\n",
    "            Dataframe containing the time series values at the current horizon time steps.\n",
    "        history : pd.DataFrame\n",
    "            Dataframe with the variables of previous iterations if \"continuity\" is at true.\n",
    "        model_interface : GenericInterface\n",
    "            Solver interface used to provide the variables\n",
    "\n",
    "        \"\"\"\n",
    "        variables = {}\n",
    "\n",
    "        variables[\"boolstate\"] = model_interface.get_new_discrete_variable_list(component_name+\"_boolstate_\", len(time_steps), 0, 1)\n",
    "        variables[\"creditFPPI\"] = model_interface.get_new_continuous_variable_list(component_name+\"_creditFPPI_\", len(time_steps), 0, 8*24)\n",
    "        variables[\"fuel\"] = model_interface.get_new_continuous_variable_list(component_name+\"_fuel_\", len(time_steps), 0, None)\n",
    "        variables[\"electricity\"] = model_interface.get_new_continuous_variable_list(component_name+\"_electricity_\", len(time_steps), self.p_min_off, self.p_max)\n",
    "\n",
    "        ratio_p_min_p_max = [0 for i in range(len(time_steps))]\n",
    "\n",
    "        for i in range(len(time_steps)):\n",
    "            # Static constraint of imperfect transformation of inputs into outputs\n",
    "            model_interface.add_equality(left_term = model_interface.sum_variables([\n",
    "                                                                variables[\"electricity\"][i],\n",
    "                                                                -variables[\"fuel\"][i]*self.efficiency\n",
    "                                                            ]), \n",
    "                                         right_term = 0)\n",
    "            burn_up = i/(len(time_steps)-1)\n",
    "            if burn_up <= 0.1:\n",
    "                ratio_p_min_p_max[i] = 1\n",
    "            elif burn_up <= 0.65:\n",
    "                ratio_p_min_p_max[i] = 0.2\n",
    "            elif burn_up <= 0.9:\n",
    "                ratio_p_min_p_max[i] = 0.2 + (burn_up-0.65) * (0.86-0.2)/(0.9-0.65)\n",
    "            else:\n",
    "                ratio_p_min_p_max[i] = 0.86\n",
    "\n",
    "            # Static constraints of limited output range while running\n",
    "            model_interface.add_lower_than(left_term = variables[\"electricity\"][i], \n",
    "                                           right_term = self.p_max * variables[\"boolstate\"][i])\n",
    "            model_interface.add_greater_than(left_term = variables[\"electricity\"][i], \n",
    "                                             right_term = self.p_min_on * variables[\"boolstate\"][i])\n",
    "            #model_interface.add_greater_than(left_term = variables[\"electricity\"][i], \n",
    "            #                                 right_term = self.p_max * ratio_p_min_p_max[i] * variables[\"boolstate\"][i])\n",
    "\n",
    "\n",
    "            if self.bool_ramps:\n",
    "                \n",
    "                current_step_elec = variables[\"electricity\"][i]\n",
    "\n",
    "                # Intermediate assignement of the previous step\n",
    "                if i == 0:\n",
    "                    # First step of the current horizon : the previous step may not exist and might be fetched in the history\n",
    "                    if len(history) == 0:\n",
    "                        # First step of the first horizon : no constraints\n",
    "                        last_step_elec = 0\n",
    "                        last_step_boolstate = 0\n",
    "                    else:\n",
    "                        # First step of a generic horizon : previous step must be fetched in history\n",
    "                        last_step_elec = history.loc[len(history)-1,\"electricity\"]\n",
    "                        last_step_boolstate = history.loc[len(history)-1,\"boolstate\"]\n",
    "                    # end if\n",
    "                else:\n",
    "                    # Not the first step of the current horizon : the previous step exists locally\n",
    "                    last_step_elec = variables[\"electricity\"][i-1]\n",
    "                    last_step_boolstate = variables[\"boolstate\"][i-1]\n",
    "                # end if\n",
    "                \n",
    "                # Intermediate assignement of the next step\n",
    "                if i == len(time_steps) - 1:\n",
    "                    # Last step of the current horizon : the next one does not exist\n",
    "                    next_step_boolstate = 1\n",
    "                else:\n",
    "                    # Not the last step of the current horizon : the next step exists locally\n",
    "                    next_step_boolstate = variables[\"boolstate\"][i+1]\n",
    "                # end if\n",
    "\n",
    "                # Cas premier horizon :\n",
    "                    # Ramping up : état + élec précédent existe pas au premier pas\n",
    "                    # Ramping down : besoin élec précédent mais jamais relaxé au dernier pas\n",
    "                # Cas horizon qcq :\n",
    "                    # Ramping up : état + élec précédent au premier pas à chercher dans history\n",
    "                    # Ramping down : besoin élec précédent dans history au premier pas mais jamais relaxé au dernier pas\n",
    "\n",
    "                # Ramping up constraint, relaxed if boolstate is null at the previous timestep\n",
    "                model_interface.add_lower_than(left_term = model_interface.sum_variables([\n",
    "                                                                    current_step_elec,\n",
    "                                                                    -last_step_elec,\n",
    "                                                                    -self.p_max * self.ramp_up,\n",
    "                                                                    -(1 - last_step_boolstate) * 1e9\n",
    "                                                                ]),\n",
    "                                            right_term = 0)\n",
    "\n",
    "                # Ramping down constraint, relaxed if boolstate is null at the next timestep\n",
    "                model_interface.add_greater_than(left_term = model_interface.sum_variables([\n",
    "                                                                    current_step_elec,\n",
    "                                                                    -last_step_elec,\n",
    "                                                                    self.p_max * self.ramp_down,\n",
    "                                                                    -1e9 * (1-next_step_boolstate)\n",
    "                                                                ]),\n",
    "                                            right_term = 0)\n",
    "            # end if self.bool_ramps\n",
    "                \n",
    "            if self.bool_creditFPPI:\n",
    "\n",
    "                current_step_creditFPPI = variables[\"creditFPPI\"][i]\n",
    "                current_step_boolstate = variables[\"boolstate\"][i]\n",
    "                debit_prop = 1\n",
    "                debit_horaire = 1 - debit_prop\n",
    "\n",
    "                if i==0:\n",
    "                    if len(history)==0:\n",
    "                        # Initialize the FPPI Credit at the first step of the first horizon\n",
    "                        last_step_creditFPPI = 8*24\n",
    "                    else:\n",
    "                        # Fetch the FPPI Credit at the last step of the previous horizon\n",
    "                        last_step_creditFPPI = history.loc[len(history)-1,\"creditFPPI\"]\n",
    "                else:\n",
    "                    last_step_creditFPPI = variables[\"creditFPPI\"][i-1]\n",
    "                # end if    \n",
    "\n",
    "                # Debit the FPPI Credit if not running at full power\n",
    "                model_interface.add_equality(left_term = model_interface.sum_variables([\n",
    "                                                            current_step_creditFPPI,\n",
    "                                                            -last_step_creditFPPI,\n",
    "                                                            -(current_step_elec - 0.976*self.p_max*current_step_boolstate)/(0.976*self.p_max)*debit_prop,\n",
    "                                                            -1*debit_horaire\n",
    "                                                        ]), \n",
    "                                        right_term = 0)\n",
    "                \n",
    "            # end if self.bool_creditFPPI\n",
    "        # end for\n",
    "\n",
    "        objective = model_interface.sum_variables([val * self.opex for val in variables[\"fuel\"]])\n",
    "        \n",
    "        return variables, objective"
   ]
  },
  {
   "cell_type": "markdown",
   "metadata": {},
   "source": [
    "### User-defined constants"
   ]
  },
  {
   "cell_type": "markdown",
   "metadata": {},
   "source": [
    "#### Simulation parameters"
   ]
  },
  {
   "cell_type": "code",
   "execution_count": null,
   "metadata": {},
   "outputs": [],
   "source": [
    "timesteps = 1\n",
    "Nb_timesteps = 1000          # Change the number of rolling horizons to make things coherent"
   ]
  },
  {
   "cell_type": "markdown",
   "metadata": {},
   "source": [
    "#### Load"
   ]
  },
  {
   "cell_type": "code",
   "execution_count": null,
   "metadata": {},
   "outputs": [],
   "source": [
    "max_load = 200.             # MWh\n",
    "min_load = 0.               # MWh\n",
    "\n",
    "### Generating a linear load ranging from min_load to max_load\n",
    "fs_df = pd.DataFrame({\"time\": list(range(Nb_timesteps + 1)), \n",
    "                            \"value\": [(min_load + i*(max_load - min_load)/Nb_timesteps) for i in range(Nb_timesteps + 1)]})\n",
    "\n",
    "### Generating a linear load ranging from min_load to max_load with a discontinuity between 350<=i<=500\n",
    "perturb_start = 350\n",
    "perturb_end = 500\n",
    "perturb_level = 15.                           \n",
    "fs_df = pd.DataFrame({\"time\": list(range(Nb_timesteps + 1)), \n",
    "                            \"value\": [(min_load + i*(max_load - min_load)/Nb_timesteps)*((i<perturb_start) + (i>perturb_end)) + perturb_level*((i>=perturb_start) + (i<=perturb_end))/2 for i in range(Nb_timesteps + 1)]})"
   ]
  },
  {
   "cell_type": "markdown",
   "metadata": {},
   "source": [
    "#### Nuclear power plant with ramping constraints"
   ]
  },
  {
   "cell_type": "code",
   "execution_count": null,
   "metadata": {},
   "outputs": [],
   "source": [
    "### cluster_Nuke caracteristics\n",
    "N1 = 10                    # Number of NPP in the cluster\n",
    "\n",
    "### individual NPP caracteristics (reference values found in ITESE A-B use case)\n",
    "NPP_efficiency = 0.33      # Fuel to electricity ratio, no cogeneration considered\n",
    "NPP_P_max = 100.            # Arbitrary\n",
    "NPP_P_min_rel = 0.4        # Minimum relative output before shutdown\n",
    "NPP_duration_on = 12       # Minimum time enabled after turning on\n",
    "NPP_duration_off = 12      # Minimum time disabled after turning off\n",
    "NPP_ramp_up = 0.005        # Maximum ramping up rate\n",
    "NPP_ramp_down = 0.005      # Maximum ramping down rate\n",
    "\n",
    "### Economic value\n",
    "NPP_OPEX = 14.5            # Cost of energy (€/MWh)\n",
    "NPP_turn_on_price = 28. * NPP_P_max    # Cost of switching on (€/MW) multiplied by maximum power\n",
    "NPP_FOPEX = 0.01           # Default to disable cluster when useless (€/h)\n"
   ]
  },
  {
   "cell_type": "markdown",
   "metadata": {},
   "source": [
    "#### CCGT cluster"
   ]
  },
  {
   "cell_type": "code",
   "execution_count": null,
   "metadata": {},
   "outputs": [],
   "source": [
    "### cluster_CCGT caracteristics\n",
    "N2 = 10                     # Number of CCGTs in the cluster\n",
    "\n",
    "### individual NPP caracteristics (reference values found in ITESE A-B use case)\n",
    "CCGT_efficiency = 0.57      # Fuel to electricity ratio, no cogeneration considered\n",
    "CCGT_P_max = 10.            # Arbitrary\n",
    "CCGT_P_min_rel = 0.4        # Minimum relative output before shutdown\n",
    "CCGT_duration_on = 2        # Minimum time enabled after turning on\n",
    "CCGT_duration_off = 2       # Minimum time disabled after turning off\n",
    "\n",
    "### Economic value\n",
    "CCGT_OPEX = 210.            # Cost of energy (€/MWh)\n",
    "CCGT_turn_on_price = 278. * CCGT_P_max    # Cost of switching on (€/MW) multiplied by maximum power\n",
    "CCGT_FOPEX = 0.01           # Default to disable cluster when useless (€/h)\n"
   ]
  },
  {
   "cell_type": "markdown",
   "metadata": {},
   "source": [
    "#### Demand-side management : unsupplied energy"
   ]
  },
  {
   "cell_type": "code",
   "execution_count": null,
   "metadata": {},
   "outputs": [],
   "source": [
    "### equivalent virtual powerplant caracteristics (reference values found in ITESE A-B use case)\n",
    "DSM_efficiency = 1.        # Fuel to electricity ratio, no cogeneration considered\n",
    "DSM_P_max = None           # Arbitrary\n",
    "DSM_P_min_rel = 0.         # Minimum relative output before shutdown\n",
    "DSM_duration_on = 6        # Minimum time enabled after turning on\n",
    "DSM_duration_off = 1       # Minimum time disabled after turning off\n",
    "DSM_turn_on_price = 0.     # Cost of switching on (€/MW)\n",
    "\n",
    "### Economic virtual value\n",
    "DSM_OPEX = 500e9            # Cost of energy (€/MWh)\n",
    "DSM_turn_on_price = 0.     # Cost of switching on (€/MW)"
   ]
  },
  {
   "cell_type": "markdown",
   "metadata": {},
   "source": [
    "#### Spilled energy"
   ]
  },
  {
   "cell_type": "code",
   "execution_count": null,
   "metadata": {},
   "outputs": [],
   "source": [
    "### equivalent virtual powerplant caracteristics (reference values found in ITESE A-B use case)\n",
    "SE_efficiency = 1.         # Fuel to electricity ratio, no cogeneration considered\n",
    "SE_P_max = None            # Arbitrary\n",
    "SE_P_min_rel = 0.          # Minimum relative output before shutdown\n",
    "SE_duration_on = 1.        # Minimum time enabled after turning on\n",
    "SE_duration_off = 1.       # Minimum time disabled after turning off\n",
    "SE_turn_on_price = 0.      # Cost of switching on (€/MW)\n",
    "\n",
    "### Economic virtual value\n",
    "SE_OPEX = 1.               # Cost of energy (€/MWh)\n",
    "SE_turn_on_price = 0.      # Cost of switching on (€/MW)"
   ]
  },
  {
   "cell_type": "markdown",
   "metadata": {},
   "source": [
    "#### Fuels"
   ]
  },
  {
   "cell_type": "code",
   "execution_count": null,
   "metadata": {},
   "outputs": [],
   "source": [
    "fuel_Nuke_price = NPP_OPEX * NPP_efficiency     # Default: back-calculation of the cost of nuclear fuel with NPP OPEX\n",
    "fuel_Nuke_lb = 0.                               # Minimum consumption rate if relevant (contracts), default: 0\n",
    "fuel_Nuke_ub = None                             # Maximum consumption rate if relevant (supply limits), default: Cluster_Nuke maximum power\n",
    "\n",
    "\n",
    "fuel_CCGT_price = CCGT_OPEX * CCGT_efficiency   # Default: back-calculation of the cost of CCGT fuel with CCGT OPEX\n",
    "fuel_CCGT_lb = 0.                               # Minimum consumption rate if relevant (contracts), default: 0\n",
    "fuel_CCGT_ub = None                             # Maximum consumption rate if relevant (supply limits), default: Cluster_CCGT maximum power\n",
    "\n",
    "fuel_DSM_price = DSM_OPEX * DSM_efficiency      # Default: back-calculation of the cost of DSM fuel with DSM OPEX\n",
    "fuel_DSM_lb = 0.                                # Minimum consumption rate\n",
    "fuel_DSM_ub = None                              # Maximum consumption rate"
   ]
  },
  {
   "cell_type": "markdown",
   "metadata": {},
   "source": [
    "###   Create model"
   ]
  },
  {
   "cell_type": "markdown",
   "metadata": {},
   "source": [
    "The following block generates the EESREP object and each component."
   ]
  },
  {
   "cell_type": "code",
   "execution_count": null,
   "metadata": {},
   "outputs": [],
   "source": [
    "model = Eesrep(interface=\"docplex\")\n",
    "\n",
    "### Fuels\n",
    "DSM = Source(name=\"Demand-side Management\",\n",
    "             p_max = fuel_DSM_ub,\n",
    "             p_min = fuel_DSM_lb,\n",
    "             price = fuel_DSM_price)\n",
    "fuel_Nuke = Source(name=\"fuel_Nuke\",\n",
    "                   p_max = fuel_Nuke_ub,\n",
    "                   p_min = fuel_Nuke_lb,\n",
    "                   price = fuel_Nuke_price)\n",
    "fuel_CCGT = Source(name=\"fuel_CCGT\",\n",
    "                   p_max = fuel_CCGT_ub,\n",
    "                   p_min = fuel_CCGT_lb,\n",
    "                   price = fuel_CCGT_price)\n",
    "\n",
    "### Flexible power plants\n",
    "flexible_static_Nuke = FlexiblePP_static(name=\"flexible_static_Nuke\",\n",
    "                                         efficiency = NPP_efficiency,\n",
    "                                         p_max = NPP_P_max,\n",
    "                                         p_min_rel = NPP_P_min_rel,\n",
    "                                         duration_on = NPP_duration_on,\n",
    "                                         duration_off = NPP_duration_off,\n",
    "                                         opex = NPP_OPEX,\n",
    "                                         turn_on_price = NPP_turn_on_price,\n",
    "                                         ramp_up = NPP_ramp_up,\n",
    "                                         ramp_down = NPP_ramp_down,\n",
    "                                         bool_ramps= True,\n",
    "                                         bool_creditFPPI = True)\n",
    "\n",
    "### Clusters\n",
    "cluster_Nuke = Cluster(name=\"cluster_Nuke\",\n",
    "                                efficiency = NPP_efficiency,\n",
    "                                p_max = NPP_P_max,\n",
    "                                p_min = NPP_P_min_rel * NPP_P_max,\n",
    "                                n_machine_max = N1,\n",
    "                                duration_on = NPP_duration_on,\n",
    "                                duration_off = NPP_duration_off,\n",
    "                                turn_on_price = NPP_turn_on_price)\n",
    "\n",
    "cluster_CCGT = Cluster(name=\"cluster_CCGT\",\n",
    "                                efficiency = CCGT_efficiency,\n",
    "                                p_max = CCGT_P_max,\n",
    "                                p_min = CCGT_P_min_rel * CCGT_P_max,\n",
    "                                n_machine_max = N2,\n",
    "                                duration_on = CCGT_duration_on,\n",
    "                                duration_off = CCGT_duration_off,\n",
    "                                turn_on_price = CCGT_turn_on_price)\n",
    "\n",
    "### Load and spilled energy\n",
    "load = FatalSink(name=\"load\", \n",
    "                        sink_flow = fs_df)\n",
    "spilled = Sink(name=\"spilled_energy\", \n",
    "               p_min = 0.,\n",
    "               p_max = SE_P_max,\n",
    "               price = SE_OPEX)\n",
    "\n",
    "### Virtual sinks for fixed OPEX of power plants and clusters\n",
    "price_flexible_static_Nuke_on = Sink(name=\"price_flexible_static_Nuke_on\", \n",
    "                                     p_min=0.,\n",
    "                                     p_max=None,\n",
    "                                     price = NPP_FOPEX)\n",
    "\n",
    "price_cluster_Nuke_on = Sink(name=\"price_cluster_Nuke_on\", \n",
    "                        p_min=0.,\n",
    "                        p_max=None,\n",
    "                        price = NPP_FOPEX)\n",
    "\n",
    "price_cluster_CCGT_on = Sink(name=\"price_cluster_CCGT_on\", \n",
    "                        p_min=0.,\n",
    "                        p_max=None,\n",
    "                        price = CCGT_FOPEX)\n",
    "\n",
    "model.add_component(DSM)\n",
    "model.add_component(fuel_Nuke)\n",
    "model.add_component(fuel_CCGT)\n",
    "model.add_component(flexible_static_Nuke)\n",
    "model.add_component(cluster_Nuke)\n",
    "model.add_component(cluster_CCGT)\n",
    "model.add_component(load)\n",
    "model.add_component(spilled)\n",
    "model.add_component(price_flexible_static_Nuke_on)\n",
    "model.add_component(price_cluster_Nuke_on)\n",
    "model.add_component(price_cluster_CCGT_on)"
   ]
  },
  {
   "cell_type": "markdown",
   "metadata": {},
   "source": [
    "#### Create links and bus"
   ]
  },
  {
   "cell_type": "code",
   "execution_count": null,
   "metadata": {},
   "outputs": [],
   "source": [
    "model.create_bus(bus_type = \"bus\", \n",
    "                 options = {\"name\":\"bus_1\"\n",
    "                })\n",
    "                        \n",
    "model.plug_to_bus(component = DSM,\n",
    "                  io = DSM.power_out,\n",
    "                  bus_name = \"bus_1\",\n",
    "                  is_input = True,\n",
    "                  factor = 1., offset = 0.)\n",
    "model.plug_to_bus(component = flexible_static_Nuke,\n",
    "                  io = flexible_static_Nuke.electricity,\n",
    "                  bus_name = \"bus_1\",\n",
    "                  is_input = True,\n",
    "                  factor = 1., offset = 0.)\n",
    "#model.plug_to_bus(component = cluster_Nuke,\n",
    "#                  io = cluster_Nuke.power_out,\n",
    "#                  bus_name = \"bus_1\",\n",
    "#                  is_input = True,\n",
    "#                  factor = 1., offset = 0.)\n",
    "model.plug_to_bus(component = cluster_CCGT,\n",
    "                  io = cluster_CCGT.power_out,\n",
    "                  bus_name = \"bus_1\",\n",
    "                  is_input = True,\n",
    "                  factor = 1., offset = 0.)\n",
    "model.plug_to_bus(component = load,\n",
    "                  io = load.power_in,\n",
    "                  bus_name = \"bus_1\",\n",
    "                  is_input = False,\n",
    "                  factor = 1., offset = 0.)\n",
    "model.plug_to_bus(component = spilled,\n",
    "                  io = spilled.power_in,\n",
    "                  bus_name = \"bus_1\",\n",
    "                  is_input = False,\n",
    "                  factor = 1., offset = 0.)\n",
    "\n",
    "#model.add_link(component_1=fuel_Nuke, io_1 = fuel_Nuke.power_out, component_2=cluster_Nuke, io_2 = cluster_Nuke.power_in, factor=1., offset=0.)\n",
    "model.add_link(component_1=fuel_CCGT, io_1 = fuel_CCGT.power_out, component_2=cluster_CCGT, io_2 = cluster_CCGT.power_in, factor=1., offset=0.)\n",
    "\n",
    "model.add_link(component_1=flexible_static_Nuke, io_1=flexible_static_Nuke.boolstate, component_2=price_cluster_Nuke_on, io_2=price_cluster_Nuke_on.power_in, factor=1., offset=0.)\n",
    "#model.add_link(component_1=cluster_Nuke, io_1=cluster_Nuke.n_machine, component_2=price_cluster_Nuke_on, io_2=price_cluster_Nuke_on.power_in, factor=1., offset=0.)\n",
    "model.add_link(component_1=cluster_CCGT, io_1=cluster_CCGT.n_machine, component_2=price_cluster_CCGT_on, io_2=price_cluster_CCGT_on.power_in, factor=1., offset=0.)"
   ]
  },
  {
   "cell_type": "markdown",
   "metadata": {},
   "source": [
    "### Simulation parameters"
   ]
  },
  {
   "cell_type": "code",
   "execution_count": null,
   "metadata": {},
   "outputs": [],
   "source": [
    "model.define_time_range(time_step = 1., \n",
    "                        time_shift = 50, \n",
    "                        future_size = 100, \n",
    "                        horizon_count = 20)"
   ]
  },
  {
   "cell_type": "markdown",
   "metadata": {},
   "source": [
    "## Simulation"
   ]
  },
  {
   "cell_type": "code",
   "execution_count": null,
   "metadata": {},
   "outputs": [
    {
     "name": "stdout",
     "output_type": "stream",
     "text": [
      "Running first time step\n"
     ]
    },
    {
     "name": "stdout",
     "output_type": "stream",
     "text": [
      "Running time step 2\n",
      "Running time step 3\n",
      "Running time step 4\n",
      "Running time step 5\n",
      "Running time step 6\n",
      "Running time step 7\n",
      "Running time step 8\n",
      "Running time step 9\n",
      "Running time step 10\n",
      "Running time step 11\n",
      "Running time step 12\n",
      "Running time step 13\n",
      "Running time step 14\n",
      "Running time step 15\n",
      "Running time step 16\n",
      "Running time step 17\n",
      "Running time step 18\n",
      "Running time step 19\n",
      "Running time step 20\n"
     ]
    }
   ],
   "source": [
    "#try:\n",
    "model.solve()\n",
    "#except UnsolvableProblemException:\n",
    "#    print(\"The problem is not solvable!\")\n",
    "\n",
    "results = model.get_results(as_dataframe=False)"
   ]
  },
  {
   "cell_type": "code",
   "execution_count": null,
   "metadata": {},
   "outputs": [
    {
     "name": "stdout",
     "output_type": "stream",
     "text": [
      "dict_keys(['Demand-side Management', 'fuel_Nuke', 'fuel_CCGT', 'flexible_static_Nuke', 'cluster_Nuke', 'cluster_CCGT', 'load', 'spilled_energy', 'price_flexible_static_Nuke_on', 'price_cluster_Nuke_on', 'price_cluster_CCGT_on', 'time'])\n",
      "dict_keys(['boolstate', 'creditFPPI', 'fuel', 'electricity'])\n",
      "dict_keys(['power_in', 'power_out', 'turn_on', 'turn_off', 'turn_on_count', 'turn_off_count', 'n_machine'])\n"
     ]
    }
   ],
   "source": [
    "print(results.keys())\n",
    "print(results[\"flexible_static_Nuke\"].keys())\n",
    "#print(results[\"cluster_Nuke\"].keys())\n",
    "print(results[\"cluster_CCGT\"].keys())"
   ]
  },
  {
   "cell_type": "markdown",
   "metadata": {},
   "source": [
    "## Displaying results"
   ]
  },
  {
   "cell_type": "code",
   "execution_count": 23,
   "metadata": {},
   "outputs": [],
   "source": [
    "time_steps = [i for i in range(1000)]\n",
    "ratio_p_min = [0 for i in range(len(time_steps))]\n",
    "\n",
    "for i in range(len(time_steps)):\n",
    "    burn_up = i/(len(time_steps)-1)\n",
    "    if burn_up <= 0.1:\n",
    "        ratio_p_min[i] = 1*NPP_P_max\n",
    "    elif burn_up <= 0.65:\n",
    "        ratio_p_min[i] = 0.2*NPP_P_max\n",
    "    elif burn_up <= 0.9:\n",
    "        ratio_p_min[i] = (0.2 + (burn_up-0.65) * (0.86-0.2)/(0.9-0.65))*NPP_P_max\n",
    "    else:\n",
    "        ratio_p_min[i] = 0.86*NPP_P_max\n",
    "# end for"
   ]
  },
  {
   "cell_type": "code",
   "execution_count": 24,
   "metadata": {},
   "outputs": [
    {
     "data": {
      "image/png": "[encoded data removed]",
      "text/plain": [
       "<Figure size 2000x1000 with 3 Axes>"
      ]
     },
     "metadata": {},
     "output_type": "display_data"
    }
   ],
   "source": [
    "plt.figure(figsize=(20,10))\n",
    "plt.subplot(221)\n",
    "plt.plot(results[\"flexible_static_Nuke\"][\"electricity\"], label = \"flexible_static_Nuke power out\", color=\"r\")\n",
    "#plt.plot(results[\"cluster_Nuke\"][\"power_out\"], label = \"Cluster_Nuke power out\", color=\"r\")\n",
    "plt.plot(results[\"cluster_CCGT\"][\"power_out\"], label = \"Cluster_CCGT power out\", color=\"b\")\n",
    "plt.plot(results[\"Demand-side Management\"][\"power_out\"], label = \"DSM\", color=\"g\")\n",
    "plt.plot(results[\"load\"][\"power_in\"], label = \"Load\", linestyle = \"dashed\", color=\"yellow\")\n",
    "plt.legend()\n",
    "plt.subplot(222)\n",
    "plt.plot(results[\"flexible_static_Nuke\"][\"boolstate\"], label = \"flexible_static_Nuke state\")\n",
    "#plt.plot(results[\"cluster_Nuke\"][\"n_machine\"], label = \"Cluster_Nuke running machines\")\n",
    "plt.plot(results[\"cluster_CCGT\"][\"n_machine\"], label = \"Cluster_CCGT running machines\")\n",
    "plt.legend()\n",
    "plt.subplot(223)\n",
    "plt.plot(results[\"flexible_static_Nuke\"][\"electricity\"], label = \"flexible_static_Nuke power out\", color=\"r\")\n",
    "plt.plot(results[\"flexible_static_Nuke\"][\"creditFPPI\"], label = \"flexible_static_Nuke creditFPPI\")\n",
    "#plt.plot(ratio_p_min, label = \"p_min\")\n",
    "plt.legend()\n",
    "plt.show()\n",
    "\n",
    "# print(results[\"flexible_static_Nuke\"][\"boolstate\"][396:401])\n",
    "# print(results[\"flexible_static_Nuke\"][\"electricity\"][395:415]) \n",
    "\n",
    "# Questions :\n",
    "# \n",
    "\n",
    "# Statut :\n",
    "# Code fonctionnel pour les rampes et le creditFPPI. Début de travail sur l'évolution de p_min mais code non-fonctionnel à ce stade : passage en v2."
   ]
  }
 ],
 "metadata": {
  "kernelspec": {
   "display_name": "Python 3",
   "language": "python",
   "name": "python3"
  },
  "language_info": {
   "codemirror_mode": {
    "name": "ipython",
    "version": 3
   },
   "file_extension": ".py",
   "mimetype": "text/x-python",
   "name": "python",
   "nbconvert_exporter": "python",
   "pygments_lexer": "ipython3",
   "version": "3.7.9"
  }
 },
 "nbformat": 4,
 "nbformat_minor": 2
}
